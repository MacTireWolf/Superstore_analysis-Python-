{
 "cells": [
  {
   "cell_type": "code",
   "execution_count": null,
   "id": "66a6764d-f85b-4deb-9747-91a2acfa3b45",
   "metadata": {},
   "outputs": [],
   "source": []
  }
 ],
 "metadata": {
  "kernelspec": {
   "display_name": "",
   "name": ""
  },
  "language_info": {
   "name": ""
  }
 },
 "nbformat": 4,
 "nbformat_minor": 5
}
